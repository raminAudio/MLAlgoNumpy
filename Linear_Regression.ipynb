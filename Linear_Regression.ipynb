{
 "cells": [
  {
   "cell_type": "markdown",
   "id": "6d2046f1",
   "metadata": {},
   "source": [
    "# Linear Regression \n",
    "\n",
    "Fitting a line using linear regression \n",
    "\n",
    "    Y = wX + b ~ f(x)  \n",
    "\n",
    "where f is a linear function of x \n",
    "\n",
    "Solve for w and b \n",
    "\n",
    "\n",
    "Cost Function: minimizing the loss between ground truth Y and predictions f(x) over all the samples. \n",
    "\n",
    "Loss can be L2 or L1 norm (to encourage sparsity) \n",
    "\n",
    "Cost Function = \n",
    "                \n",
    "                sum over samples loss(Y_i , f(x_i)) = \n",
    "\n",
    "                sum((f(x_i) - y_i))^2 => Normalized\n",
    "                \n",
    "                1/(2 * m) sum((f(x_i) - y_i)^2) , where m is the number of samples \n",
    "                \n",
    "To find w and b the cost function is minimized in a closed form or using gradient descent algorithm. Linear regression solves a convex function, local minimum is a global maximum. \n",
    "\n",
    "Parameters of the model are updated simultaneously. \n",
    "\n",
    "    temp_w = w - alpha * d/dw(cost function)\n",
    "\n",
    "    temp_b = b - alpha * d/dw(cost function)\n",
    "\n",
    "    w = temp_w\n",
    "\n",
    "    b = temp_b\n",
    "\n",
    "d/dw(cost function) is the derivative of the cost function with respect to w and alpha is the learning rate. \n",
    "\n",
    "Consider the cost function to be the norm 2 and Y = wX + b , \n",
    "\n",
    "    J(w,b) = 1/(2 * m) * sum( ((w * X_i + b) -Y_i)^2 )\n",
    "\n",
    "dJ/dw = \n",
    "\n",
    "        1 / (2 * m) * sum( ((w * X_i + b) - y_i)  * 2 * X_i )  = \n",
    "        1 / m * sum( ((w * X_i + b) - Y_i)  * X_i ) \n",
    "        \n",
    "dJ/db = \n",
    "\n",
    "        1 / (2 * m) * sum( ((w * X_i + b) - y_i)  * 2 )  = \n",
    "        1 / m * sum( ((w * X_i + b) - Y_i) ) \n",
    "        \n",
    "        \n",
    "Gradient descent is then, \n",
    "\n",
    "    W = W - alpha * dJ/dw\n",
    "\n",
    "    b = b - alpha * dJ/dw\n",
    "\n",
    "Gradient descent can be ran until the number of iterations is reached, or the cost function goes below a threshold, or perhaps, the change in cost function is minimum, i.e., model isn't learning. \n",
    "\n",
    "Instead of using for loops, we can employ numpy to vectorize the implementations. \n",
    "\n",
    "    Y = np.dot(w,X) + b \n",
    "\n",
    "And cost function is also a function of X and Y as vectors, instead of a a list of samples. \n",
    "\n",
    "If Y was a function multiple features our implementation of linear regression simply generalizes by performing gradident descent with respect to each feature. \n",
    "\n",
    "    W_1 = W_1 - alpha * dJ/dw_1\n",
    "\n",
    "    W_2 = W_2 - alpha * dJ/dw_2\n",
    "\n",
    "The cost function can also be regularized using norm 2 or norm 1, this will further update the gradient descent. \n",
    "\n",
    "    J(w,b) = 1/(2 * m) * sum( ((w * X_i + b) -Y_i)^2 ) + gamma/2 * sum(w^2)\n",
    "\n",
    "    dJ/dw = 1 / m * sum( ((w * X_i + b) - Y_i)  * X_i ) + gamma* sum(w)\n",
    "\n",
    "Where gamma is the regularization factor. \n",
    "\n",
    "Closed form solution  can be derived by solving for W directly, \n",
    "\n",
    "    W = (X * X.T)^-1 * X * Y.T\n"
   ]
  },
  {
   "cell_type": "code",
   "execution_count": 1,
   "id": "d0d8e7e8",
   "metadata": {},
   "outputs": [],
   "source": [
    "import numpy as np \n",
    "import matplotlib.pylab as plt\n",
    "import pandas as pd"
   ]
  },
  {
   "cell_type": "code",
   "execution_count": 197,
   "id": "88367b63",
   "metadata": {},
   "outputs": [],
   "source": [
    "class LinearRegression():\n",
    "    \n",
    "    def __init__(self, iteration= 50, learning_rate=0.01, threshold = 0.01, gamma = 0.01):\n",
    "        self.iter_ = iteration\n",
    "        self.lr = learning_rate\n",
    "        self.thr = threshold\n",
    "        self.gamma = gamma\n",
    "        self.costs = []\n",
    "        \n",
    "    def fit(self, X, Y, W, b):\n",
    "        m =  len(Y)\n",
    "        X = X.reshape(m,1)\n",
    "        Y = Y.reshape(m,1)\n",
    "        for i in range(self.iter_):\n",
    "            y_pred = X.dot(W) + b\n",
    "            loss = (y_pred - Y)\n",
    "            \n",
    "            w_error = np.dot(X.T, loss)\n",
    "            update_w = self.lr * 1/m * w_error + (self.gamma * sum(W))\n",
    "            update_b = self.lr * 1/m * np.sum(loss,axis=0)\n",
    "            W = W - update_w\n",
    "            b = b - update_b\n",
    "            if i >2 : # skipping the first two iterations \n",
    "                self.costs.append(self.cost_function(Y,X,W,b))\n",
    "        return (W,b )\n",
    "    \n",
    "    def cost_function(self,Y,X,W,b):\n",
    "        m = len(Y)\n",
    "        y_pred = X.dot(W) + b\n",
    "        loss = (y_pred - Y)\n",
    "        error = (loss) ** 2\n",
    "        return 1 / (2 * m) * np.sum(error) + (self.gamma/2) * np.sum(W**2)\n",
    "\n",
    "        \n",
    "        "
   ]
  },
  {
   "cell_type": "markdown",
   "id": "4b2ba055",
   "metadata": {},
   "source": [
    "# Fit a linear line\n"
   ]
  },
  {
   "cell_type": "code",
   "execution_count": 198,
   "id": "49e4a834",
   "metadata": {},
   "outputs": [],
   "source": [
    "m = 2000\n",
    "X = np.random.randn(m)/2\n",
    "slope = 5\n",
    "intercept = 0.1\n",
    "Y = (slope * X + intercept)"
   ]
  },
  {
   "cell_type": "code",
   "execution_count": 201,
   "id": "7d2d1730",
   "metadata": {},
   "outputs": [
    {
     "data": {
      "image/png": "[encoded data removed]",
      "text/plain": [
       "<Figure size 1080x360 with 1 Axes>"
      ]
     },
     "metadata": {
      "needs_background": "light"
     },
     "output_type": "display_data"
    },
    {
     "data": {
      "image/png": "[encoded data removed]",
      "text/plain": [
       "<Figure size 1080x360 with 1 Axes>"
      ]
     },
     "metadata": {
      "needs_background": "light"
     },
     "output_type": "display_data"
    }
   ],
   "source": [
    "LReg = LinearRegression(iteration=1000,learning_rate=0.1)\n",
    "w = np.random.randn(1,1)\n",
    "b = np.random.randn(1,1)\n",
    "\n",
    "W,B = LReg.fit(X,Y,w,b)\n",
    "X = X.reshape(m,1)\n",
    "z = X.dot(W) + B\n",
    "\n",
    "\n",
    "plt.figure(figsize=(15,5))\n",
    "plt.scatter(X,Y)\n",
    "plt.scatter(X,z)\n",
    "plt.legend(['Gr','Pr'])\n",
    "plt.title('LR')\n",
    "plt.show()\n",
    "\n",
    "plt.figure(figsize=(15,5))\n",
    "plt.plot(LReg.costs)\n",
    "plt.title('cost')\n",
    "plt.show()\n"
   ]
  },
  {
   "cell_type": "markdown",
   "id": "8bdb1716",
   "metadata": {},
   "source": [
    "# Fit a polynomial\n"
   ]
  },
  {
   "cell_type": "code",
   "execution_count": 202,
   "id": "6b17eb3e",
   "metadata": {},
   "outputs": [],
   "source": [
    "m = 2000\n",
    "X = np.random.randn(m)/2 +0.4\n",
    "slope = 5\n",
    "intercept = 1\n",
    "Y = slope * X**2 + intercept\n"
   ]
  },
  {
   "cell_type": "code",
   "execution_count": 203,
   "id": "f3e8bd2f",
   "metadata": {},
   "outputs": [
    {
     "data": {
      "image/png": "[encoded data removed]",
      "text/plain": [
       "<Figure size 1080x360 with 1 Axes>"
      ]
     },
     "metadata": {
      "needs_background": "light"
     },
     "output_type": "display_data"
    },
    {
     "data": {
      "image/png": "[encoded data removed]",
      "text/plain": [
       "<Figure size 1080x360 with 1 Axes>"
      ]
     },
     "metadata": {
      "needs_background": "light"
     },
     "output_type": "display_data"
    }
   ],
   "source": [
    "LReg = LinearRegression(iteration=1000,learning_rate=1)\n",
    "w = np.random.randn(1,1)\n",
    "b = np.zeros((1,1))\n",
    "\n",
    "W,B = LReg.fit(X,Y,w,b)\n",
    "X = X.reshape(m,1)\n",
    "z = X.dot(W) + B\n",
    "\n",
    "plt.figure(figsize=(15,5))\n",
    "plt.scatter(X,Y)\n",
    "plt.scatter(X,z)\n",
    "plt.legend(['Gr','Pr'])\n",
    "plt.title('LR')\n",
    "plt.show()\n",
    "\n",
    "plt.figure(figsize=(15,5))\n",
    "plt.plot(LReg.costs)\n",
    "\n",
    "plt.title('cost')\n",
    "plt.show()\n"
   ]
  },
  {
   "cell_type": "markdown",
   "id": "5637cc61",
   "metadata": {},
   "source": [
    "# Closed Form "
   ]
  },
  {
   "cell_type": "code",
   "execution_count": 177,
   "id": "c2028f85",
   "metadata": {},
   "outputs": [
    {
     "name": "stdout",
     "output_type": "stream",
     "text": [
      "4.999899957769712\n"
     ]
    }
   ],
   "source": [
    "from numpy.linalg import inv\n",
    "\n",
    "m = 2000\n",
    "X = np.random.randn(m)/2\n",
    "slope = 5\n",
    "intercept = 0 \n",
    "gamma = 0.01\n",
    "Y = (slope * X + intercept)\n",
    "X = X.reshape(m,1).T\n",
    "Y = Y.reshape(m,1)\n",
    "\n",
    "\n",
    "inv_matrix= inv(X@X.T + gamma * np.identity(1))\n",
    "invX = inv_matrix@X\n",
    "slope = invX@Y\n",
    "print(slope.squeeze())"
   ]
  }
 ],
 "metadata": {
  "kernelspec": {
   "display_name": "Python 3 (ipykernel)",
   "language": "python",
   "name": "python3"
  },
  "language_info": {
   "codemirror_mode": {
    "name": "ipython",
    "version": 3
   },
   "file_extension": ".py",
   "mimetype": "text/x-python",
   "name": "python",
   "nbconvert_exporter": "python",
   "pygments_lexer": "ipython3",
   "version": "3.8.12"
  }
 },
 "nbformat": 4,
 "nbformat_minor": 5
}
